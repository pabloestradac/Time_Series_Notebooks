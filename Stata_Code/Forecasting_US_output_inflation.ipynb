{
 "cells": [
  {
   "cell_type": "markdown",
   "metadata": {},
   "source": [
    "# Time Series Forecasting in Stata <a class=\"tocSkip\">"
   ]
  },
  {
   "cell_type": "markdown",
   "metadata": {},
   "source": [
    "<!-- There are some fundamental concepts in macroeconomics that take the premise that interests rates and asset prices have useful information for economic developement. For instance, Stock & Watson analyze quarterly data to predict output growth and consumption. They analyze on as many as 43 variables from each of seven developed economies (Canada, France, Germany, Italy, Japan, the United Kingdom, and the United States) over 1959-99. Most of these predictors are asset prices, but they also consider measures of real economic activity, wages, prices, and money supply. -->\n",
    "\n",
    "This post aims to give a beginner's introduction to time series forecasting using Stata. Even though, programming languages like R and Python are very powerfull to manage data and make forecasts, Stata is still one of the most popular options among economists.\n",
    "\n",
    "In this post, I want to show how Jupyter Notebooks can be used to present results and statistical models in Stata. I will use the [`stata_kernel`](https://kylebarron.dev/stata_kernel/) and show that Stata + Jupyter Notebooks are a great option when you want to estimate econometric models.\n",
    "\n",
    "For the forecast, I will use the oil price to predict consumption in USA. I use the data and models from Stock & Watson (2003): \"Forecasting Output and Inflation: The Role of Asset Prices\". Additionally, if you want to replicate the results, you can go to the GitHub repository.\n",
    "\n",
    "<!-- After completing this post, you will know:\n",
    "- How to forecast with ARDL models \n",
    "- How to obtain the best statistical model -->"
   ]
  },
  {
   "cell_type": "markdown",
   "metadata": {},
   "source": [
    "## Data"
   ]
  },
  {
   "cell_type": "markdown",
   "metadata": {},
   "source": [
    "As I mentioned previously, I will use the data from Stock & Watson (2003). To keep it short, I will focus on forecasting consumption using oil price. The data goes from the 1st quarter of 1959 to the last quarter of 1999. The variable names are:\n",
    "- **cpi**: represents the Consumer Price Index.\n",
    "- **oil**: represents a standardized price of Oil.\n",
    "\n",
    "First, I will read the data. Then, I will create the variable **time**, and finally using `%tail 5` I will show you the last 5 rows of the dataset."
   ]
  },
  {
   "cell_type": "code",
   "execution_count": 1,
   "metadata": {},
   "outputs": [
    {
     "name": "stdout",
     "output_type": "stream",
     "text": [
      "\n",
      "\n",
      "\n",
      "\n",
      "        time variable:  time, 1959q1 to 1999q4\n",
      "                delta:  1 quarter\n"
     ]
    }
   ],
   "source": [
    "use data_forecast_us, clear\n",
    "\n",
    "generate time = q(1959q1) + _n-1\n",
    "format time %tq\n",
    "tsset time"
   ]
  },
  {
   "cell_type": "code",
   "execution_count": 2,
   "metadata": {},
   "outputs": [
    {
     "data": {
      "text/html": [
       "<div>\n",
       "<style scoped>\n",
       "    .dataframe tbody tr th:only-of-type {\n",
       "        vertical-align: middle;\n",
       "    }\n",
       "\n",
       "    .dataframe tbody tr th {\n",
       "        vertical-align: top;\n",
       "    }\n",
       "\n",
       "    .dataframe thead th {\n",
       "        text-align: right;\n",
       "    }\n",
       "</style>\n",
       "<table border=\"1\" class=\"dataframe\">\n",
       "  <thead>\n",
       "    <tr style=\"text-align: right;\">\n",
       "      <th></th>\n",
       "      <th>rovnght</th>\n",
       "      <th>exrate</th>\n",
       "      <th>oil</th>\n",
       "      <th>cpi</th>\n",
       "      <th>rgdp</th>\n",
       "      <th>time</th>\n",
       "    </tr>\n",
       "  </thead>\n",
       "  <tbody>\n",
       "    <tr>\n",
       "      <th>160</th>\n",
       "      <td>4.68</td>\n",
       "      <td>114.72</td>\n",
       "      <td>10.41</td>\n",
       "      <td>164.17</td>\n",
       "      <td>110.58</td>\n",
       "      <td>1998q4</td>\n",
       "    </tr>\n",
       "    <tr>\n",
       "      <th>161</th>\n",
       "      <td>4.81</td>\n",
       "      <td>118.05</td>\n",
       "      <td>12.86</td>\n",
       "      <td>164.87</td>\n",
       "      <td>111.58</td>\n",
       "      <td>1999q1</td>\n",
       "    </tr>\n",
       "    <tr>\n",
       "      <th>162</th>\n",
       "      <td>4.76</td>\n",
       "      <td>119.47</td>\n",
       "      <td>16.24</td>\n",
       "      <td>166.2</td>\n",
       "      <td>112.1</td>\n",
       "      <td>1999q2</td>\n",
       "    </tr>\n",
       "    <tr>\n",
       "      <th>163</th>\n",
       "      <td>5.22</td>\n",
       "      <td>114.79</td>\n",
       "      <td>22.41</td>\n",
       "      <td>167.23</td>\n",
       "      <td>113.65</td>\n",
       "      <td>1999q3</td>\n",
       "    </tr>\n",
       "    <tr>\n",
       "      <th>164</th>\n",
       "      <td>5.3</td>\n",
       "      <td>114.68</td>\n",
       "      <td>24.97</td>\n",
       "      <td>168.43</td>\n",
       "      <td>115.67</td>\n",
       "      <td>1999q4</td>\n",
       "    </tr>\n",
       "  </tbody>\n",
       "</table>\n",
       "</div>"
      ],
      "text/plain": [
       "\n",
       "     +-----------------------------------------------------+\n",
       "     | rovnght   exrate     oil      cpi     rgdp     time |\n",
       "     |-----------------------------------------------------|\n",
       "160. |    4.68   114.72   10.41   164.17   110.58   1998q4 |\n",
       "161. |    4.81   118.05   12.86   164.87   111.58   1999q1 |\n",
       "162. |    4.76   119.47   16.24    166.2    112.1   1999q2 |\n",
       "163. |    5.22   114.79   22.41   167.23   113.65   1999q3 |\n",
       "164. |     5.3   114.68   24.97   168.43   115.67   1999q4 |\n",
       "     +-----------------------------------------------------+"
      ]
     },
     "metadata": {},
     "output_type": "display_data"
    }
   ],
   "source": [
    "%tail 5"
   ]
  },
  {
   "cell_type": "markdown",
   "metadata": {},
   "source": [
    "In order to predict consumption, I will calculate the inflation following Stock & Watson (2003). I consider: $Y_{t+1} = 400\\log(P_{t+1}/P_t) - 400\\log(P_t/P_{t-1})$. And in the case of oil: $Y_{t+1} = 400\\log(O_{t+1}/O_t)$."
   ]
  },
  {
   "cell_type": "code",
   "execution_count": 3,
   "metadata": {
    "scrolled": true
   },
   "outputs": [],
   "source": [
    "quietly gen doil = 400 * ln(oil/l.oil)\n",
    "quietly gen infl = 400 * ln(cpi/l.cpi) - 400 * ln(l.cpi/l2.cpi)"
   ]
  },
  {
   "cell_type": "markdown",
   "metadata": {},
   "source": [
    "## ARDL Model"
   ]
  },
  {
   "cell_type": "markdown",
   "metadata": {},
   "source": [
    "For the forecast, I will use an [ARDL](https://www.stata.com/meeting/chicago16/slides/chicago16_kripfganz.pdf) model. This model is very easy to implement in Stata. I will focus in the time frame of 1985 - 1999. If you don't have installed the `ardl` command, firt you need to run: `net install ardl, from(http://www.kripfganz.de/stata/)`.\n",
    "\n",
    "Specifically, I will estimate a model to forecast inflation using lagged inflation and lagged oil price."
   ]
  },
  {
   "cell_type": "code",
   "execution_count": 4,
   "metadata": {},
   "outputs": [
    {
     "name": "stdout",
     "output_type": "stream",
     "text": [
      "\n",
      "ARDL(1,1) regression\n",
      "\n",
      "Sample: 1959q4 - 1984q4                         Number of obs     =        101\n",
      "                                                F(   3,     97)   =       4.19\n",
      "                                                Prob > F          =     0.0078\n",
      "                                                R-squared         =     0.1147\n",
      "                                                Adj R-squared     =     0.0873\n",
      "Log likelihood = -197.18579                     Root MSE          =     1.7395\n",
      "\n",
      "------------------------------------------------------------------------------\n",
      "        infl |      Coef.   Std. Err.      t    P>|t|     [95% Conf. Interval]\n",
      "-------------+----------------------------------------------------------------\n",
      "        infl |\n",
      "         L1. |  -.2343423   .0990587    -2.37   0.020    -.4309464   -.0377383\n",
      "             |\n",
      "        doil |\n",
      "         --. |    .007935   .0028173     2.82   0.006     .0023434    .0135266\n",
      "         L1. |  -.0000824   .0028883    -0.03   0.977    -.0058149      .00565\n",
      "             |\n",
      "       _cons |  -.0595367   .1781646    -0.33   0.739    -.4131441    .2940706\n",
      "------------------------------------------------------------------------------\n"
     ]
    }
   ],
   "source": [
    "ardl infl doil if time < tq(1985q1), lags(1) fast"
   ]
  },
  {
   "cell_type": "code",
   "execution_count": 5,
   "metadata": {},
   "outputs": [
    {
     "name": "stdout",
     "output_type": "stream",
     "text": [
      "\n",
      "Akaike's information criterion and Bayesian information criterion\n",
      "\n",
      "-----------------------------------------------------------------------------\n",
      "       Model |        Obs  ll(null)  ll(model)      df         AIC        BIC\n",
      "-------------+---------------------------------------------------------------\n",
      "           . |        101  -203.338  -197.1858       4    402.3716   412.8321\n",
      "-----------------------------------------------------------------------------\n",
      "               Note: N=Obs used in calculating BIC; see [R] BIC note.\n"
     ]
    }
   ],
   "source": [
    "estat ic"
   ]
  },
  {
   "cell_type": "markdown",
   "metadata": {},
   "source": [
    "## Forecast"
   ]
  },
  {
   "cell_type": "markdown",
   "metadata": {},
   "source": [
    "Then, I will estimate the forecast 4-steps ahead."
   ]
  },
  {
   "cell_type": "code",
   "execution_count": 6,
   "metadata": {
    "scrolled": true
   },
   "outputs": [],
   "source": [
    "local start = tq(1984q1)\n",
    "local end = tq(1998q1)\n",
    "qui gen forecast = .\n",
    "\n",
    "forvalues itime = `start'/`end' {\n",
    "    eststo clear\n",
    "    qui ardl infl doil if time < `itime', lags(1) fast\n",
    "    qui predict pred, xb   // forecast for the next period\n",
    "    qui replace forecast = pred if time == `itime' + 4\n",
    "    drop pred\n",
    "}"
   ]
  },
  {
   "cell_type": "markdown",
   "metadata": {},
   "source": [
    "Then, let's calculate the RMSE to evaluate our results."
   ]
  },
  {
   "cell_type": "code",
   "execution_count": 7,
   "metadata": {},
   "outputs": [
    {
     "name": "stdout",
     "output_type": "stream",
     "text": [
      "\n",
      "\n",
      "\n",
      "\n",
      "\n",
      "MRSE = 1.2321423\n"
     ]
    }
   ],
   "source": [
    "qui gen resid2 = (forecast - infl)^2 if (time >= `start' + 4) & (time <= `end' + 4)\n",
    "qui sum resid2\n",
    "gen mresid2 = r(mean)\n",
    "scalar mresid_doil = sqrt(mresid2)\n",
    "display \"MRSE = \" mresid_doil"
   ]
  },
  {
   "cell_type": "markdown",
   "metadata": {},
   "source": [
    "And finally, let's plot our prediction with the actual data."
   ]
  },
  {
   "cell_type": "code",
   "execution_count": 8,
   "metadata": {},
   "outputs": [
    {
     "data": {
      "application/pdf": "[encoded data removed]",
      "image/svg+xml": [
       "<?xml version=\"1.0\" encoding=\"UTF-8\" standalone=\"no\"?>\n",
       "<!-- This is a Stata 15.0 generated SVG file (http://www.stata.com) -->\n",
       "\n",
       "<svg version=\"1.1\" width=\"600px\" height=\"436px\" viewBox=\"0 0 3960 2880\" xmlns=\"http://www.w3.org/2000/svg\" xmlns:xlink=\"http://www.w3.org/1999/xlink\">\n",
       "\t<desc>Stata Graph - Graph</desc>\n",
       "\t<rect x=\"0\" y=\"0\" width=\"3960\" height=\"2880\" style=\"fill:#EAF2F3;stroke:none\"/>\n",
       "\t<rect x=\"0.00\" y=\"0.00\" width=\"3959.88\" height=\"2880.00\" style=\"fill:#EAF2F3\"/>\n",
       "\t<rect x=\"2.88\" y=\"2.88\" width=\"3954.12\" height=\"2874.24\" style=\"fill:none;stroke:#EAF2F3;stroke-width:5.76\"/>\n",
       "\t<rect x=\"290.81\" y=\"100.86\" width=\"3568.21\" height=\"2132.77\" style=\"fill:#FFFFFF\"/>\n",
       "\t<rect x=\"293.69\" y=\"103.74\" width=\"3562.45\" height=\"2127.01\" style=\"fill:none;stroke:#FFFFFF;stroke-width:5.76\"/>\n",
       "\t<line x1=\"290.81\" y1=\"2155.54\" x2=\"3859.02\" y2=\"2155.54\" style=\"stroke:#EAF2F3;stroke-width:8.64\"/>\n",
       "\t<line x1=\"290.81\" y1=\"1682.93\" x2=\"3859.02\" y2=\"1682.93\" style=\"stroke:#EAF2F3;stroke-width:8.64\"/>\n",
       "\t<line x1=\"290.81\" y1=\"1210.31\" x2=\"3859.02\" y2=\"1210.31\" style=\"stroke:#EAF2F3;stroke-width:8.64\"/>\n",
       "\t<line x1=\"290.81\" y1=\"737.70\" x2=\"3859.02\" y2=\"737.70\" style=\"stroke:#EAF2F3;stroke-width:8.64\"/>\n",
       "\t<line x1=\"290.81\" y1=\"264.96\" x2=\"3859.02\" y2=\"264.96\" style=\"stroke:#EAF2F3;stroke-width:8.64\"/>\n",
       "\t<line x1=\"354.05\" y1=\"822.34\" x2=\"415.55\" y2=\"1647.91\" stroke-linecap=\"round\" style=\"stroke:#1A476F;stroke-width:8.64\"/>\n",
       "\t<line x1=\"415.55\" y1=\"1647.91\" x2=\"476.93\" y2=\"1281.97\" stroke-linecap=\"round\" style=\"stroke:#1A476F;stroke-width:8.64\"/>\n",
       "\t<line x1=\"476.93\" y1=\"1281.97\" x2=\"538.44\" y2=\"1217.37\" stroke-linecap=\"round\" style=\"stroke:#1A476F;stroke-width:8.64\"/>\n",
       "\t<line x1=\"538.44\" y1=\"1217.37\" x2=\"599.94\" y2=\"1154.99\" stroke-linecap=\"round\" style=\"stroke:#1A476F;stroke-width:8.64\"/>\n",
       "\t<line x1=\"599.94\" y1=\"1154.99\" x2=\"661.32\" y2=\"1227.02\" stroke-linecap=\"round\" style=\"stroke:#1A476F;stroke-width:8.64\"/>\n",
       "\t<line x1=\"661.32\" y1=\"1227.02\" x2=\"722.82\" y2=\"1471.68\" stroke-linecap=\"round\" style=\"stroke:#1A476F;stroke-width:8.64\"/>\n",
       "\t<line x1=\"722.82\" y1=\"1471.68\" x2=\"784.33\" y2=\"840.29\" stroke-linecap=\"round\" style=\"stroke:#1A476F;stroke-width:8.64\"/>\n",
       "\t<line x1=\"784.33\" y1=\"840.29\" x2=\"845.71\" y2=\"1676.12\" stroke-linecap=\"round\" style=\"stroke:#1A476F;stroke-width:8.64\"/>\n",
       "\t<line x1=\"845.71\" y1=\"1676.12\" x2=\"907.21\" y2=\"2170.40\" stroke-linecap=\"round\" style=\"stroke:#1A476F;stroke-width:8.64\"/>\n",
       "\t<line x1=\"907.21\" y1=\"2170.40\" x2=\"968.59\" y2=\"164.22\" stroke-linecap=\"round\" style=\"stroke:#1A476F;stroke-width:8.64\"/>\n",
       "\t<line x1=\"968.59\" y1=\"164.22\" x2=\"1030.10\" y2=\"1128.26\" stroke-linecap=\"round\" style=\"stroke:#1A476F;stroke-width:8.64\"/>\n",
       "\t<line x1=\"1030.10\" y1=\"1128.26\" x2=\"1091.60\" y2=\"655.77\" stroke-linecap=\"round\" style=\"stroke:#1A476F;stroke-width:8.64\"/>\n",
       "\t<line x1=\"1091.60\" y1=\"655.77\" x2=\"1152.98\" y2=\"1359.31\" stroke-linecap=\"round\" style=\"stroke:#1A476F;stroke-width:8.64\"/>\n",
       "\t<line x1=\"1152.98\" y1=\"1359.31\" x2=\"1214.48\" y2=\"1280.11\" stroke-linecap=\"round\" style=\"stroke:#1A476F;stroke-width:8.64\"/>\n",
       "\t<line x1=\"1214.48\" y1=\"1280.11\" x2=\"1275.99\" y2=\"1335.30\" stroke-linecap=\"round\" style=\"stroke:#1A476F;stroke-width:8.64\"/>\n",
       "\t<line x1=\"1275.99\" y1=\"1335.30\" x2=\"1337.37\" y2=\"1372.68\" stroke-linecap=\"round\" style=\"stroke:#1A476F;stroke-width:8.64\"/>\n",
       "\t<line x1=\"1337.37\" y1=\"1372.68\" x2=\"1398.87\" y2=\"845.24\" stroke-linecap=\"round\" style=\"stroke:#1A476F;stroke-width:8.64\"/>\n",
       "\t<line x1=\"1398.87\" y1=\"845.24\" x2=\"1460.25\" y2=\"1135.07\" stroke-linecap=\"round\" style=\"stroke:#1A476F;stroke-width:8.64\"/>\n",
       "\t<line x1=\"1460.25\" y1=\"1135.07\" x2=\"1521.75\" y2=\"1310.55\" stroke-linecap=\"round\" style=\"stroke:#1A476F;stroke-width:8.64\"/>\n",
       "\t<line x1=\"1521.75\" y1=\"1310.55\" x2=\"1583.26\" y2=\"1190.76\" stroke-linecap=\"round\" style=\"stroke:#1A476F;stroke-width:8.64\"/>\n",
       "\t<line x1=\"1583.26\" y1=\"1190.76\" x2=\"1644.64\" y2=\"793.39\" stroke-linecap=\"round\" style=\"stroke:#1A476F;stroke-width:8.64\"/>\n",
       "\t<line x1=\"1644.64\" y1=\"793.39\" x2=\"1706.14\" y2=\"1935.76\" stroke-linecap=\"round\" style=\"stroke:#1A476F;stroke-width:8.64\"/>\n",
       "\t<line x1=\"1706.14\" y1=\"1935.76\" x2=\"1767.65\" y2=\"1043.62\" stroke-linecap=\"round\" style=\"stroke:#1A476F;stroke-width:8.64\"/>\n",
       "\t<line x1=\"1767.65\" y1=\"1043.62\" x2=\"1829.03\" y2=\"523.11\" stroke-linecap=\"round\" style=\"stroke:#1A476F;stroke-width:8.64\"/>\n",
       "\t<line x1=\"1829.03\" y1=\"523.11\" x2=\"1890.53\" y2=\"1870.91\" stroke-linecap=\"round\" style=\"stroke:#1A476F;stroke-width:8.64\"/>\n",
       "\t<line x1=\"1890.53\" y1=\"1870.91\" x2=\"1951.91\" y2=\"549.59\" stroke-linecap=\"round\" style=\"stroke:#1A476F;stroke-width:8.64\"/>\n",
       "\t<line x1=\"1951.91\" y1=\"549.59\" x2=\"2013.41\" y2=\"1230.36\" stroke-linecap=\"round\" style=\"stroke:#1A476F;stroke-width:8.64\"/>\n",
       "\t<line x1=\"2013.41\" y1=\"1230.36\" x2=\"2074.92\" y2=\"2101.96\" stroke-linecap=\"round\" style=\"stroke:#1A476F;stroke-width:8.64\"/>\n",
       "\t<line x1=\"2074.92\" y1=\"2101.96\" x2=\"2136.30\" y2=\"1354.73\" stroke-linecap=\"round\" style=\"stroke:#1A476F;stroke-width:8.64\"/>\n",
       "\t<line x1=\"2136.30\" y1=\"1354.73\" x2=\"2197.80\" y2=\"1054.51\" stroke-linecap=\"round\" style=\"stroke:#1A476F;stroke-width:8.64\"/>\n",
       "\t<line x1=\"2197.80\" y1=\"1054.51\" x2=\"2259.18\" y2=\"1147.07\" stroke-linecap=\"round\" style=\"stroke:#1A476F;stroke-width:8.64\"/>\n",
       "\t<line x1=\"2259.18\" y1=\"1147.07\" x2=\"2320.68\" y2=\"1346.07\" stroke-linecap=\"round\" style=\"stroke:#1A476F;stroke-width:8.64\"/>\n",
       "\t<line x1=\"2320.68\" y1=\"1346.07\" x2=\"2382.19\" y2=\"1133.46\" stroke-linecap=\"round\" style=\"stroke:#1A476F;stroke-width:8.64\"/>\n",
       "\t<line x1=\"2382.19\" y1=\"1133.46\" x2=\"2443.57\" y2=\"1209.08\" stroke-linecap=\"round\" style=\"stroke:#1A476F;stroke-width:8.64\"/>\n",
       "\t<line x1=\"2443.57\" y1=\"1209.08\" x2=\"2505.07\" y2=\"1109.33\" stroke-linecap=\"round\" style=\"stroke:#1A476F;stroke-width:8.64\"/>\n",
       "\t<line x1=\"2505.07\" y1=\"1109.33\" x2=\"2566.57\" y2=\"1369.21\" stroke-linecap=\"round\" style=\"stroke:#1A476F;stroke-width:8.64\"/>\n",
       "\t<line x1=\"2566.57\" y1=\"1369.21\" x2=\"2627.95\" y2=\"1169.10\" stroke-linecap=\"round\" style=\"stroke:#1A476F;stroke-width:8.64\"/>\n",
       "\t<line x1=\"2627.95\" y1=\"1169.10\" x2=\"2689.46\" y2=\"1476.14\" stroke-linecap=\"round\" style=\"stroke:#1A476F;stroke-width:8.64\"/>\n",
       "\t<line x1=\"2689.46\" y1=\"1476.14\" x2=\"2750.84\" y2=\"894.62\" stroke-linecap=\"round\" style=\"stroke:#1A476F;stroke-width:8.64\"/>\n",
       "\t<line x1=\"2750.84\" y1=\"894.62\" x2=\"2812.34\" y2=\"1467.10\" stroke-linecap=\"round\" style=\"stroke:#1A476F;stroke-width:8.64\"/>\n",
       "\t<line x1=\"2812.34\" y1=\"1467.10\" x2=\"2873.85\" y2=\"1174.55\" stroke-linecap=\"round\" style=\"stroke:#1A476F;stroke-width:8.64\"/>\n",
       "\t<line x1=\"2873.85\" y1=\"1174.55\" x2=\"2935.23\" y2=\"870.11\" stroke-linecap=\"round\" style=\"stroke:#1A476F;stroke-width:8.64\"/>\n",
       "\t<line x1=\"2935.23\" y1=\"870.11\" x2=\"2996.73\" y2=\"1533.19\" stroke-linecap=\"round\" style=\"stroke:#1A476F;stroke-width:8.64\"/>\n",
       "\t<line x1=\"2996.73\" y1=\"1533.19\" x2=\"3058.23\" y2=\"1069.36\" stroke-linecap=\"round\" style=\"stroke:#1A476F;stroke-width:8.64\"/>\n",
       "\t<line x1=\"3058.23\" y1=\"1069.36\" x2=\"3119.61\" y2=\"1134.58\" stroke-linecap=\"round\" style=\"stroke:#1A476F;stroke-width:8.64\"/>\n",
       "\t<line x1=\"3119.61\" y1=\"1134.58\" x2=\"3181.12\" y2=\"1500.39\" stroke-linecap=\"round\" style=\"stroke:#1A476F;stroke-width:8.64\"/>\n",
       "\t<line x1=\"3181.12\" y1=\"1500.39\" x2=\"3242.50\" y2=\"1132.84\" stroke-linecap=\"round\" style=\"stroke:#1A476F;stroke-width:8.64\"/>\n",
       "\t<line x1=\"3242.50\" y1=\"1132.84\" x2=\"3304.00\" y2=\"969.61\" stroke-linecap=\"round\" style=\"stroke:#1A476F;stroke-width:8.64\"/>\n",
       "\t<line x1=\"3304.00\" y1=\"969.61\" x2=\"3365.51\" y2=\"1180.74\" stroke-linecap=\"round\" style=\"stroke:#1A476F;stroke-width:8.64\"/>\n",
       "\t<line x1=\"3365.51\" y1=\"1180.74\" x2=\"3426.89\" y2=\"1493.34\" stroke-linecap=\"round\" style=\"stroke:#1A476F;stroke-width:8.64\"/>\n",
       "\t<line x1=\"3426.89\" y1=\"1493.34\" x2=\"3488.39\" y2=\"992.75\" stroke-linecap=\"round\" style=\"stroke:#1A476F;stroke-width:8.64\"/>\n",
       "\t<line x1=\"3488.39\" y1=\"992.75\" x2=\"3549.89\" y2=\"1358.32\" stroke-linecap=\"round\" style=\"stroke:#1A476F;stroke-width:8.64\"/>\n",
       "\t<line x1=\"3549.89\" y1=\"1358.32\" x2=\"3611.27\" y2=\"1544.08\" stroke-linecap=\"round\" style=\"stroke:#1A476F;stroke-width:8.64\"/>\n",
       "\t<line x1=\"3611.27\" y1=\"1544.08\" x2=\"3672.78\" y2=\"1075.92\" stroke-linecap=\"round\" style=\"stroke:#1A476F;stroke-width:8.64\"/>\n",
       "\t<line x1=\"3672.78\" y1=\"1075.92\" x2=\"3734.16\" y2=\"1153.63\" stroke-linecap=\"round\" style=\"stroke:#1A476F;stroke-width:8.64\"/>\n",
       "\t<line x1=\"3734.16\" y1=\"1153.63\" x2=\"3795.66\" y2=\"1445.57\" stroke-linecap=\"round\" style=\"stroke:#1A476F;stroke-width:8.64\"/>\n",
       "\t<line x1=\"599.94\" y1=\"1194.35\" x2=\"661.32\" y2=\"1275.16\" stroke-linecap=\"round\" style=\"stroke:#90353B;stroke-width:8.64\"/>\n",
       "\t<line x1=\"661.32\" y1=\"1275.16\" x2=\"722.82\" y2=\"1186.55\" stroke-linecap=\"round\" style=\"stroke:#90353B;stroke-width:8.64\"/>\n",
       "\t<line x1=\"722.82\" y1=\"1186.55\" x2=\"784.33\" y2=\"1185.19\" stroke-linecap=\"round\" style=\"stroke:#90353B;stroke-width:8.64\"/>\n",
       "\t<line x1=\"784.33\" y1=\"1185.19\" x2=\"845.71\" y2=\"1865.59\" stroke-linecap=\"round\" style=\"stroke:#90353B;stroke-width:8.64\"/>\n",
       "\t<line x1=\"845.71\" y1=\"1865.59\" x2=\"907.21\" y2=\"1157.96\" stroke-linecap=\"round\" style=\"stroke:#90353B;stroke-width:8.64\"/>\n",
       "\t<line x1=\"907.21\" y1=\"1157.96\" x2=\"968.59\" y2=\"878.03\" stroke-linecap=\"round\" style=\"stroke:#90353B;stroke-width:8.64\"/>\n",
       "\t<line x1=\"968.59\" y1=\"878.03\" x2=\"1030.10\" y2=\"1400.03\" stroke-linecap=\"round\" style=\"stroke:#90353B;stroke-width:8.64\"/>\n",
       "\t<line x1=\"1030.10\" y1=\"1400.03\" x2=\"1091.60\" y2=\"1139.15\" stroke-linecap=\"round\" style=\"stroke:#90353B;stroke-width:8.64\"/>\n",
       "\t<line x1=\"1091.60\" y1=\"1139.15\" x2=\"1152.98\" y2=\"1313.52\" stroke-linecap=\"round\" style=\"stroke:#90353B;stroke-width:8.64\"/>\n",
       "\t<line x1=\"1152.98\" y1=\"1313.52\" x2=\"1214.48\" y2=\"1201.16\" stroke-linecap=\"round\" style=\"stroke:#90353B;stroke-width:8.64\"/>\n",
       "\t<line x1=\"1214.48\" y1=\"1201.16\" x2=\"1275.99\" y2=\"1282.59\" stroke-linecap=\"round\" style=\"stroke:#90353B;stroke-width:8.64\"/>\n",
       "\t<line x1=\"1275.99\" y1=\"1282.59\" x2=\"1337.37\" y2=\"1309.93\" stroke-linecap=\"round\" style=\"stroke:#90353B;stroke-width:8.64\"/>\n",
       "\t<line x1=\"1337.37\" y1=\"1309.93\" x2=\"1398.87\" y2=\"1181.11\" stroke-linecap=\"round\" style=\"stroke:#90353B;stroke-width:8.64\"/>\n",
       "\t<line x1=\"1398.87\" y1=\"1181.11\" x2=\"1460.25\" y2=\"1432.20\" stroke-linecap=\"round\" style=\"stroke:#90353B;stroke-width:8.64\"/>\n",
       "\t<line x1=\"1460.25\" y1=\"1432.20\" x2=\"1521.75\" y2=\"1204.37\" stroke-linecap=\"round\" style=\"stroke:#90353B;stroke-width:8.64\"/>\n",
       "\t<line x1=\"1521.75\" y1=\"1204.37\" x2=\"1583.26\" y2=\"1005.25\" stroke-linecap=\"round\" style=\"stroke:#90353B;stroke-width:8.64\"/>\n",
       "\t<line x1=\"1583.26\" y1=\"1005.25\" x2=\"1644.64\" y2=\"1186.55\" stroke-linecap=\"round\" style=\"stroke:#90353B;stroke-width:8.64\"/>\n",
       "\t<line x1=\"1644.64\" y1=\"1186.55\" x2=\"1706.14\" y2=\"1340.75\" stroke-linecap=\"round\" style=\"stroke:#90353B;stroke-width:8.64\"/>\n",
       "\t<line x1=\"1706.14\" y1=\"1340.75\" x2=\"1767.65\" y2=\"964.41\" stroke-linecap=\"round\" style=\"stroke:#90353B;stroke-width:8.64\"/>\n",
       "\t<line x1=\"1767.65\" y1=\"964.41\" x2=\"1829.03\" y2=\"1291.00\" stroke-linecap=\"round\" style=\"stroke:#90353B;stroke-width:8.64\"/>\n",
       "\t<line x1=\"1829.03\" y1=\"1291.00\" x2=\"1890.53\" y2=\"1562.15\" stroke-linecap=\"round\" style=\"stroke:#90353B;stroke-width:8.64\"/>\n",
       "\t<line x1=\"1890.53\" y1=\"1562.15\" x2=\"1951.91\" y2=\"487.84\" stroke-linecap=\"round\" style=\"stroke:#90353B;stroke-width:8.64\"/>\n",
       "\t<line x1=\"1951.91\" y1=\"487.84\" x2=\"2013.41\" y2=\"1339.26\" stroke-linecap=\"round\" style=\"stroke:#90353B;stroke-width:8.64\"/>\n",
       "\t<line x1=\"2013.41\" y1=\"1339.26\" x2=\"2074.92\" y2=\"1577.86\" stroke-linecap=\"round\" style=\"stroke:#90353B;stroke-width:8.64\"/>\n",
       "\t<line x1=\"2074.92\" y1=\"1577.86\" x2=\"2136.30\" y2=\"1118.98\" stroke-linecap=\"round\" style=\"stroke:#90353B;stroke-width:8.64\"/>\n",
       "\t<line x1=\"2136.30\" y1=\"1118.98\" x2=\"2197.80\" y2=\"1101.66\" stroke-linecap=\"round\" style=\"stroke:#90353B;stroke-width:8.64\"/>\n",
       "\t<line x1=\"2197.80\" y1=\"1101.66\" x2=\"2259.18\" y2=\"1318.72\" stroke-linecap=\"round\" style=\"stroke:#90353B;stroke-width:8.64\"/>\n",
       "\t<line x1=\"2259.18\" y1=\"1318.72\" x2=\"2320.68\" y2=\"1293.10\" stroke-linecap=\"round\" style=\"stroke:#90353B;stroke-width:8.64\"/>\n",
       "\t<line x1=\"2320.68\" y1=\"1293.10\" x2=\"2382.19\" y2=\"1047.95\" stroke-linecap=\"round\" style=\"stroke:#90353B;stroke-width:8.64\"/>\n",
       "\t<line x1=\"2382.19\" y1=\"1047.95\" x2=\"2443.57\" y2=\"1202.39\" stroke-linecap=\"round\" style=\"stroke:#90353B;stroke-width:8.64\"/>\n",
       "\t<line x1=\"2443.57\" y1=\"1202.39\" x2=\"2505.07\" y2=\"1337.66\" stroke-linecap=\"round\" style=\"stroke:#90353B;stroke-width:8.64\"/>\n",
       "\t<line x1=\"2505.07\" y1=\"1337.66\" x2=\"2566.57\" y2=\"1277.63\" stroke-linecap=\"round\" style=\"stroke:#90353B;stroke-width:8.64\"/>\n",
       "\t<line x1=\"2566.57\" y1=\"1277.63\" x2=\"2627.95\" y2=\"1222.07\" stroke-linecap=\"round\" style=\"stroke:#90353B;stroke-width:8.64\"/>\n",
       "\t<line x1=\"2627.95\" y1=\"1222.07\" x2=\"2689.46\" y2=\"1340.13\" stroke-linecap=\"round\" style=\"stroke:#90353B;stroke-width:8.64\"/>\n",
       "\t<line x1=\"2689.46\" y1=\"1340.13\" x2=\"2750.84\" y2=\"1327.88\" stroke-linecap=\"round\" style=\"stroke:#90353B;stroke-width:8.64\"/>\n",
       "\t<line x1=\"2750.84\" y1=\"1327.88\" x2=\"2812.34\" y2=\"1359.81\" stroke-linecap=\"round\" style=\"stroke:#90353B;stroke-width:8.64\"/>\n",
       "\t<line x1=\"2812.34\" y1=\"1359.81\" x2=\"2873.85\" y2=\"966.77\" stroke-linecap=\"round\" style=\"stroke:#90353B;stroke-width:8.64\"/>\n",
       "\t<line x1=\"2873.85\" y1=\"966.77\" x2=\"2935.23\" y2=\"1194.72\" stroke-linecap=\"round\" style=\"stroke:#90353B;stroke-width:8.64\"/>\n",
       "\t<line x1=\"2935.23\" y1=\"1194.72\" x2=\"2996.73\" y2=\"1347.31\" stroke-linecap=\"round\" style=\"stroke:#90353B;stroke-width:8.64\"/>\n",
       "\t<line x1=\"2996.73\" y1=\"1347.31\" x2=\"3058.23\" y2=\"1079.13\" stroke-linecap=\"round\" style=\"stroke:#90353B;stroke-width:8.64\"/>\n",
       "\t<line x1=\"3058.23\" y1=\"1079.13\" x2=\"3119.61\" y2=\"1235.43\" stroke-linecap=\"round\" style=\"stroke:#90353B;stroke-width:8.64\"/>\n",
       "\t<line x1=\"3119.61\" y1=\"1235.43\" x2=\"3181.12\" y2=\"1272.68\" stroke-linecap=\"round\" style=\"stroke:#90353B;stroke-width:8.64\"/>\n",
       "\t<line x1=\"3181.12\" y1=\"1272.68\" x2=\"3242.50\" y2=\"1107.23\" stroke-linecap=\"round\" style=\"stroke:#90353B;stroke-width:8.64\"/>\n",
       "\t<line x1=\"3242.50\" y1=\"1107.23\" x2=\"3304.00\" y2=\"1157.10\" stroke-linecap=\"round\" style=\"stroke:#90353B;stroke-width:8.64\"/>\n",
       "\t<line x1=\"3304.00\" y1=\"1157.10\" x2=\"3365.51\" y2=\"1293.97\" stroke-linecap=\"round\" style=\"stroke:#90353B;stroke-width:8.64\"/>\n",
       "\t<line x1=\"3365.51\" y1=\"1293.97\" x2=\"3426.89\" y2=\"1120.47\" stroke-linecap=\"round\" style=\"stroke:#90353B;stroke-width:8.64\"/>\n",
       "\t<line x1=\"3426.89\" y1=\"1120.47\" x2=\"3488.39\" y2=\"1025.67\" stroke-linecap=\"round\" style=\"stroke:#90353B;stroke-width:8.64\"/>\n",
       "\t<line x1=\"3488.39\" y1=\"1025.67\" x2=\"3549.89\" y2=\"1406.59\" stroke-linecap=\"round\" style=\"stroke:#90353B;stroke-width:8.64\"/>\n",
       "\t<line x1=\"3549.89\" y1=\"1406.59\" x2=\"3611.27\" y2=\"1323.42\" stroke-linecap=\"round\" style=\"stroke:#90353B;stroke-width:8.64\"/>\n",
       "\t<line x1=\"3611.27\" y1=\"1323.42\" x2=\"3672.78\" y2=\"1134.45\" stroke-linecap=\"round\" style=\"stroke:#90353B;stroke-width:8.64\"/>\n",
       "\t<line x1=\"3672.78\" y1=\"1134.45\" x2=\"3734.16\" y2=\"1309.69\" stroke-linecap=\"round\" style=\"stroke:#90353B;stroke-width:8.64\"/>\n",
       "\t<line x1=\"3734.16\" y1=\"1309.69\" x2=\"3795.66\" y2=\"1476.01\" stroke-linecap=\"round\" style=\"stroke:#90353B;stroke-width:8.64\"/>\n",
       "\t<line x1=\"290.81\" y1=\"2233.63\" x2=\"290.81\" y2=\"100.86\" style=\"stroke:#000000;stroke-width:5.76\"/>\n",
       "\t<line x1=\"290.81\" y1=\"2155.54\" x2=\"250.84\" y2=\"2155.54\" style=\"stroke:#000000;stroke-width:5.76\"/>\n",
       "\t<text x=\"200.73\" y=\"2155.54\" style=\"font-family:'Helvetica';font-size:99.99px;fill:#000000\" transform=\"rotate(-90 200.73,2155.54)\" text-anchor=\"middle\">-4</text>\n",
       "\t<line x1=\"290.81\" y1=\"1682.93\" x2=\"250.84\" y2=\"1682.93\" style=\"stroke:#000000;stroke-width:5.76\"/>\n",
       "\t<text x=\"200.73\" y=\"1682.93\" style=\"font-family:'Helvetica';font-size:99.99px;fill:#000000\" transform=\"rotate(-90 200.73,1682.93)\" text-anchor=\"middle\">-2</text>\n",
       "\t<line x1=\"290.81\" y1=\"1210.31\" x2=\"250.84\" y2=\"1210.31\" style=\"stroke:#000000;stroke-width:5.76\"/>\n",
       "\t<text x=\"200.73\" y=\"1210.31\" style=\"font-family:'Helvetica';font-size:99.99px;fill:#000000\" transform=\"rotate(-90 200.73,1210.31)\" text-anchor=\"middle\">0</text>\n",
       "\t<line x1=\"290.81\" y1=\"737.70\" x2=\"250.84\" y2=\"737.70\" style=\"stroke:#000000;stroke-width:5.76\"/>\n",
       "\t<text x=\"200.73\" y=\"737.70\" style=\"font-family:'Helvetica';font-size:99.99px;fill:#000000\" transform=\"rotate(-90 200.73,737.70)\" text-anchor=\"middle\">2</text>\n",
       "\t<line x1=\"290.81\" y1=\"264.96\" x2=\"250.84\" y2=\"264.96\" style=\"stroke:#000000;stroke-width:5.76\"/>\n",
       "\t<text x=\"200.73\" y=\"264.96\" style=\"font-family:'Helvetica';font-size:99.99px;fill:#000000\" transform=\"rotate(-90 200.73,264.96)\" text-anchor=\"middle\">4</text>\n",
       "\t<line x1=\"290.81\" y1=\"2233.63\" x2=\"3859.02\" y2=\"2233.63\" style=\"stroke:#000000;stroke-width:5.76\"/>\n",
       "\t<line x1=\"354.17\" y1=\"2233.63\" x2=\"354.17\" y2=\"2273.73\" style=\"stroke:#000000;stroke-width:5.76\"/>\n",
       "\t<text x=\"354.17\" y=\"2363.59\" style=\"font-family:'Helvetica';font-size:99.99px;fill:#000000\" text-anchor=\"middle\">1984q1</text>\n",
       "\t<line x1=\"1214.48\" y1=\"2233.63\" x2=\"1214.48\" y2=\"2273.73\" style=\"stroke:#000000;stroke-width:5.76\"/>\n",
       "\t<text x=\"1214.48\" y=\"2363.59\" style=\"font-family:'Helvetica';font-size:99.99px;fill:#000000\" text-anchor=\"middle\">1987q3</text>\n",
       "\t<line x1=\"2074.92\" y1=\"2233.63\" x2=\"2074.92\" y2=\"2273.73\" style=\"stroke:#000000;stroke-width:5.76\"/>\n",
       "\t<text x=\"2074.92\" y=\"2363.59\" style=\"font-family:'Helvetica';font-size:99.99px;fill:#000000\" text-anchor=\"middle\">1991q1</text>\n",
       "\t<line x1=\"2935.35\" y1=\"2233.63\" x2=\"2935.35\" y2=\"2273.73\" style=\"stroke:#000000;stroke-width:5.76\"/>\n",
       "\t<text x=\"2935.35\" y=\"2363.59\" style=\"font-family:'Helvetica';font-size:99.99px;fill:#000000\" text-anchor=\"middle\">1994q3</text>\n",
       "\t<line x1=\"3795.66\" y1=\"2233.63\" x2=\"3795.66\" y2=\"2273.73\" style=\"stroke:#000000;stroke-width:5.76\"/>\n",
       "\t<text x=\"3795.66\" y=\"2363.59\" style=\"font-family:'Helvetica';font-size:99.99px;fill:#000000\" text-anchor=\"middle\">1998q1</text>\n",
       "\t<text x=\"2074.92\" y=\"2473.60\" style=\"font-family:'Helvetica';font-size:99.99px;fill:#000000\" text-anchor=\"middle\">time</text>\n",
       "\t<rect x=\"1277.97\" y=\"2558.24\" width=\"1593.90\" height=\"186.37\" style=\"fill:#FFFFFF\"/>\n",
       "\t<rect x=\"1280.85\" y=\"2561.12\" width=\"1588.14\" height=\"180.61\" style=\"fill:none;stroke:#000000;stroke-width:5.76\"/>\n",
       "\t<line x1=\"1321.16\" y1=\"2651.43\" x2=\"1695.62\" y2=\"2651.43\" style=\"stroke:#1A476F;stroke-width:8.64\"/>\n",
       "\t<line x1=\"2020.96\" y1=\"2651.43\" x2=\"2395.30\" y2=\"2651.43\" style=\"stroke:#90353B;stroke-width:8.64\"/>\n",
       "\t<text x=\"1755.52\" y=\"2686.46\" style=\"font-family:'Helvetica';font-size:99.99px;fill:#000000\">infl</text>\n",
       "\t<text x=\"2455.32\" y=\"2686.46\" style=\"font-family:'Helvetica';font-size:99.99px;fill:#000000\">forecast</text>\n",
       "</svg>\n"
      ],
      "text/html": [
       "                <iframe frameborder=\"0\" scrolling=\"no\" height=\"436\" width=\"600\"                srcdoc=\"<html><body>&lt;?xml version=&quot;1.0&quot; encoding=&quot;UTF-8&quot; standalone=&quot;no&quot;?&gt;\n",
       "&lt;!-- This is a Stata 15.0 generated SVG file (http://www.stata.com) --&gt;\n",
       "\n",
       "&lt;svg version=&quot;1.1&quot; width=&quot;600px&quot; height=&quot;436px&quot; viewBox=&quot;0 0 3960 2880&quot; xmlns=&quot;http://www.w3.org/2000/svg&quot; xmlns:xlink=&quot;http://www.w3.org/1999/xlink&quot;&gt;\n",
       "\t&lt;desc&gt;Stata Graph - Graph&lt;/desc&gt;\n",
       "\t&lt;rect x=&quot;0&quot; y=&quot;0&quot; width=&quot;3960&quot; height=&quot;2880&quot; style=&quot;fill:#EAF2F3;stroke:none&quot;/&gt;\n",
       "\t&lt;rect x=&quot;0.00&quot; y=&quot;0.00&quot; width=&quot;3959.88&quot; height=&quot;2880.00&quot; style=&quot;fill:#EAF2F3&quot;/&gt;\n",
       "\t&lt;rect x=&quot;2.88&quot; y=&quot;2.88&quot; width=&quot;3954.12&quot; height=&quot;2874.24&quot; style=&quot;fill:none;stroke:#EAF2F3;stroke-width:5.76&quot;/&gt;\n",
       "\t&lt;rect x=&quot;290.81&quot; y=&quot;100.86&quot; width=&quot;3568.21&quot; height=&quot;2132.77&quot; style=&quot;fill:#FFFFFF&quot;/&gt;\n",
       "\t&lt;rect x=&quot;293.69&quot; y=&quot;103.74&quot; width=&quot;3562.45&quot; height=&quot;2127.01&quot; style=&quot;fill:none;stroke:#FFFFFF;stroke-width:5.76&quot;/&gt;\n",
       "\t&lt;line x1=&quot;290.81&quot; y1=&quot;2155.54&quot; x2=&quot;3859.02&quot; y2=&quot;2155.54&quot; style=&quot;stroke:#EAF2F3;stroke-width:8.64&quot;/&gt;\n",
       "\t&lt;line x1=&quot;290.81&quot; y1=&quot;1682.93&quot; x2=&quot;3859.02&quot; y2=&quot;1682.93&quot; style=&quot;stroke:#EAF2F3;stroke-width:8.64&quot;/&gt;\n",
       "\t&lt;line x1=&quot;290.81&quot; y1=&quot;1210.31&quot; x2=&quot;3859.02&quot; y2=&quot;1210.31&quot; style=&quot;stroke:#EAF2F3;stroke-width:8.64&quot;/&gt;\n",
       "\t&lt;line x1=&quot;290.81&quot; y1=&quot;737.70&quot; x2=&quot;3859.02&quot; y2=&quot;737.70&quot; style=&quot;stroke:#EAF2F3;stroke-width:8.64&quot;/&gt;\n",
       "\t&lt;line x1=&quot;290.81&quot; y1=&quot;264.96&quot; x2=&quot;3859.02&quot; y2=&quot;264.96&quot; style=&quot;stroke:#EAF2F3;stroke-width:8.64&quot;/&gt;\n",
       "\t&lt;line x1=&quot;354.05&quot; y1=&quot;822.34&quot; x2=&quot;415.55&quot; y2=&quot;1647.91&quot; stroke-linecap=&quot;round&quot; style=&quot;stroke:#1A476F;stroke-width:8.64&quot;/&gt;\n",
       "\t&lt;line x1=&quot;415.55&quot; y1=&quot;1647.91&quot; x2=&quot;476.93&quot; y2=&quot;1281.97&quot; stroke-linecap=&quot;round&quot; style=&quot;stroke:#1A476F;stroke-width:8.64&quot;/&gt;\n",
       "\t&lt;line x1=&quot;476.93&quot; y1=&quot;1281.97&quot; x2=&quot;538.44&quot; y2=&quot;1217.37&quot; stroke-linecap=&quot;round&quot; style=&quot;stroke:#1A476F;stroke-width:8.64&quot;/&gt;\n",
       "\t&lt;line x1=&quot;538.44&quot; y1=&quot;1217.37&quot; x2=&quot;599.94&quot; y2=&quot;1154.99&quot; stroke-linecap=&quot;round&quot; style=&quot;stroke:#1A476F;stroke-width:8.64&quot;/&gt;\n",
       "\t&lt;line x1=&quot;599.94&quot; y1=&quot;1154.99&quot; x2=&quot;661.32&quot; y2=&quot;1227.02&quot; stroke-linecap=&quot;round&quot; style=&quot;stroke:#1A476F;stroke-width:8.64&quot;/&gt;\n",
       "\t&lt;line x1=&quot;661.32&quot; y1=&quot;1227.02&quot; x2=&quot;722.82&quot; y2=&quot;1471.68&quot; stroke-linecap=&quot;round&quot; style=&quot;stroke:#1A476F;stroke-width:8.64&quot;/&gt;\n",
       "\t&lt;line x1=&quot;722.82&quot; y1=&quot;1471.68&quot; x2=&quot;784.33&quot; y2=&quot;840.29&quot; stroke-linecap=&quot;round&quot; style=&quot;stroke:#1A476F;stroke-width:8.64&quot;/&gt;\n",
       "\t&lt;line x1=&quot;784.33&quot; y1=&quot;840.29&quot; x2=&quot;845.71&quot; y2=&quot;1676.12&quot; stroke-linecap=&quot;round&quot; style=&quot;stroke:#1A476F;stroke-width:8.64&quot;/&gt;\n",
       "\t&lt;line x1=&quot;845.71&quot; y1=&quot;1676.12&quot; x2=&quot;907.21&quot; y2=&quot;2170.40&quot; stroke-linecap=&quot;round&quot; style=&quot;stroke:#1A476F;stroke-width:8.64&quot;/&gt;\n",
       "\t&lt;line x1=&quot;907.21&quot; y1=&quot;2170.40&quot; x2=&quot;968.59&quot; y2=&quot;164.22&quot; stroke-linecap=&quot;round&quot; style=&quot;stroke:#1A476F;stroke-width:8.64&quot;/&gt;\n",
       "\t&lt;line x1=&quot;968.59&quot; y1=&quot;164.22&quot; x2=&quot;1030.10&quot; y2=&quot;1128.26&quot; stroke-linecap=&quot;round&quot; style=&quot;stroke:#1A476F;stroke-width:8.64&quot;/&gt;\n",
       "\t&lt;line x1=&quot;1030.10&quot; y1=&quot;1128.26&quot; x2=&quot;1091.60&quot; y2=&quot;655.77&quot; stroke-linecap=&quot;round&quot; style=&quot;stroke:#1A476F;stroke-width:8.64&quot;/&gt;\n",
       "\t&lt;line x1=&quot;1091.60&quot; y1=&quot;655.77&quot; x2=&quot;1152.98&quot; y2=&quot;1359.31&quot; stroke-linecap=&quot;round&quot; style=&quot;stroke:#1A476F;stroke-width:8.64&quot;/&gt;\n",
       "\t&lt;line x1=&quot;1152.98&quot; y1=&quot;1359.31&quot; x2=&quot;1214.48&quot; y2=&quot;1280.11&quot; stroke-linecap=&quot;round&quot; style=&quot;stroke:#1A476F;stroke-width:8.64&quot;/&gt;\n",
       "\t&lt;line x1=&quot;1214.48&quot; y1=&quot;1280.11&quot; x2=&quot;1275.99&quot; y2=&quot;1335.30&quot; stroke-linecap=&quot;round&quot; style=&quot;stroke:#1A476F;stroke-width:8.64&quot;/&gt;\n",
       "\t&lt;line x1=&quot;1275.99&quot; y1=&quot;1335.30&quot; x2=&quot;1337.37&quot; y2=&quot;1372.68&quot; stroke-linecap=&quot;round&quot; style=&quot;stroke:#1A476F;stroke-width:8.64&quot;/&gt;\n",
       "\t&lt;line x1=&quot;1337.37&quot; y1=&quot;1372.68&quot; x2=&quot;1398.87&quot; y2=&quot;845.24&quot; stroke-linecap=&quot;round&quot; style=&quot;stroke:#1A476F;stroke-width:8.64&quot;/&gt;\n",
       "\t&lt;line x1=&quot;1398.87&quot; y1=&quot;845.24&quot; x2=&quot;1460.25&quot; y2=&quot;1135.07&quot; stroke-linecap=&quot;round&quot; style=&quot;stroke:#1A476F;stroke-width:8.64&quot;/&gt;\n",
       "\t&lt;line x1=&quot;1460.25&quot; y1=&quot;1135.07&quot; x2=&quot;1521.75&quot; y2=&quot;1310.55&quot; stroke-linecap=&quot;round&quot; style=&quot;stroke:#1A476F;stroke-width:8.64&quot;/&gt;\n",
       "\t&lt;line x1=&quot;1521.75&quot; y1=&quot;1310.55&quot; x2=&quot;1583.26&quot; y2=&quot;1190.76&quot; stroke-linecap=&quot;round&quot; style=&quot;stroke:#1A476F;stroke-width:8.64&quot;/&gt;\n",
       "\t&lt;line x1=&quot;1583.26&quot; y1=&quot;1190.76&quot; x2=&quot;1644.64&quot; y2=&quot;793.39&quot; stroke-linecap=&quot;round&quot; style=&quot;stroke:#1A476F;stroke-width:8.64&quot;/&gt;\n",
       "\t&lt;line x1=&quot;1644.64&quot; y1=&quot;793.39&quot; x2=&quot;1706.14&quot; y2=&quot;1935.76&quot; stroke-linecap=&quot;round&quot; style=&quot;stroke:#1A476F;stroke-width:8.64&quot;/&gt;\n",
       "\t&lt;line x1=&quot;1706.14&quot; y1=&quot;1935.76&quot; x2=&quot;1767.65&quot; y2=&quot;1043.62&quot; stroke-linecap=&quot;round&quot; style=&quot;stroke:#1A476F;stroke-width:8.64&quot;/&gt;\n",
       "\t&lt;line x1=&quot;1767.65&quot; y1=&quot;1043.62&quot; x2=&quot;1829.03&quot; y2=&quot;523.11&quot; stroke-linecap=&quot;round&quot; style=&quot;stroke:#1A476F;stroke-width:8.64&quot;/&gt;\n",
       "\t&lt;line x1=&quot;1829.03&quot; y1=&quot;523.11&quot; x2=&quot;1890.53&quot; y2=&quot;1870.91&quot; stroke-linecap=&quot;round&quot; style=&quot;stroke:#1A476F;stroke-width:8.64&quot;/&gt;\n",
       "\t&lt;line x1=&quot;1890.53&quot; y1=&quot;1870.91&quot; x2=&quot;1951.91&quot; y2=&quot;549.59&quot; stroke-linecap=&quot;round&quot; style=&quot;stroke:#1A476F;stroke-width:8.64&quot;/&gt;\n",
       "\t&lt;line x1=&quot;1951.91&quot; y1=&quot;549.59&quot; x2=&quot;2013.41&quot; y2=&quot;1230.36&quot; stroke-linecap=&quot;round&quot; style=&quot;stroke:#1A476F;stroke-width:8.64&quot;/&gt;\n",
       "\t&lt;line x1=&quot;2013.41&quot; y1=&quot;1230.36&quot; x2=&quot;2074.92&quot; y2=&quot;2101.96&quot; stroke-linecap=&quot;round&quot; style=&quot;stroke:#1A476F;stroke-width:8.64&quot;/&gt;\n",
       "\t&lt;line x1=&quot;2074.92&quot; y1=&quot;2101.96&quot; x2=&quot;2136.30&quot; y2=&quot;1354.73&quot; stroke-linecap=&quot;round&quot; style=&quot;stroke:#1A476F;stroke-width:8.64&quot;/&gt;\n",
       "\t&lt;line x1=&quot;2136.30&quot; y1=&quot;1354.73&quot; x2=&quot;2197.80&quot; y2=&quot;1054.51&quot; stroke-linecap=&quot;round&quot; style=&quot;stroke:#1A476F;stroke-width:8.64&quot;/&gt;\n",
       "\t&lt;line x1=&quot;2197.80&quot; y1=&quot;1054.51&quot; x2=&quot;2259.18&quot; y2=&quot;1147.07&quot; stroke-linecap=&quot;round&quot; style=&quot;stroke:#1A476F;stroke-width:8.64&quot;/&gt;\n",
       "\t&lt;line x1=&quot;2259.18&quot; y1=&quot;1147.07&quot; x2=&quot;2320.68&quot; y2=&quot;1346.07&quot; stroke-linecap=&quot;round&quot; style=&quot;stroke:#1A476F;stroke-width:8.64&quot;/&gt;\n",
       "\t&lt;line x1=&quot;2320.68&quot; y1=&quot;1346.07&quot; x2=&quot;2382.19&quot; y2=&quot;1133.46&quot; stroke-linecap=&quot;round&quot; style=&quot;stroke:#1A476F;stroke-width:8.64&quot;/&gt;\n",
       "\t&lt;line x1=&quot;2382.19&quot; y1=&quot;1133.46&quot; x2=&quot;2443.57&quot; y2=&quot;1209.08&quot; stroke-linecap=&quot;round&quot; style=&quot;stroke:#1A476F;stroke-width:8.64&quot;/&gt;\n",
       "\t&lt;line x1=&quot;2443.57&quot; y1=&quot;1209.08&quot; x2=&quot;2505.07&quot; y2=&quot;1109.33&quot; stroke-linecap=&quot;round&quot; style=&quot;stroke:#1A476F;stroke-width:8.64&quot;/&gt;\n",
       "\t&lt;line x1=&quot;2505.07&quot; y1=&quot;1109.33&quot; x2=&quot;2566.57&quot; y2=&quot;1369.21&quot; stroke-linecap=&quot;round&quot; style=&quot;stroke:#1A476F;stroke-width:8.64&quot;/&gt;\n",
       "\t&lt;line x1=&quot;2566.57&quot; y1=&quot;1369.21&quot; x2=&quot;2627.95&quot; y2=&quot;1169.10&quot; stroke-linecap=&quot;round&quot; style=&quot;stroke:#1A476F;stroke-width:8.64&quot;/&gt;\n",
       "\t&lt;line x1=&quot;2627.95&quot; y1=&quot;1169.10&quot; x2=&quot;2689.46&quot; y2=&quot;1476.14&quot; stroke-linecap=&quot;round&quot; style=&quot;stroke:#1A476F;stroke-width:8.64&quot;/&gt;\n",
       "\t&lt;line x1=&quot;2689.46&quot; y1=&quot;1476.14&quot; x2=&quot;2750.84&quot; y2=&quot;894.62&quot; stroke-linecap=&quot;round&quot; style=&quot;stroke:#1A476F;stroke-width:8.64&quot;/&gt;\n",
       "\t&lt;line x1=&quot;2750.84&quot; y1=&quot;894.62&quot; x2=&quot;2812.34&quot; y2=&quot;1467.10&quot; stroke-linecap=&quot;round&quot; style=&quot;stroke:#1A476F;stroke-width:8.64&quot;/&gt;\n",
       "\t&lt;line x1=&quot;2812.34&quot; y1=&quot;1467.10&quot; x2=&quot;2873.85&quot; y2=&quot;1174.55&quot; stroke-linecap=&quot;round&quot; style=&quot;stroke:#1A476F;stroke-width:8.64&quot;/&gt;\n",
       "\t&lt;line x1=&quot;2873.85&quot; y1=&quot;1174.55&quot; x2=&quot;2935.23&quot; y2=&quot;870.11&quot; stroke-linecap=&quot;round&quot; style=&quot;stroke:#1A476F;stroke-width:8.64&quot;/&gt;\n",
       "\t&lt;line x1=&quot;2935.23&quot; y1=&quot;870.11&quot; x2=&quot;2996.73&quot; y2=&quot;1533.19&quot; stroke-linecap=&quot;round&quot; style=&quot;stroke:#1A476F;stroke-width:8.64&quot;/&gt;\n",
       "\t&lt;line x1=&quot;2996.73&quot; y1=&quot;1533.19&quot; x2=&quot;3058.23&quot; y2=&quot;1069.36&quot; stroke-linecap=&quot;round&quot; style=&quot;stroke:#1A476F;stroke-width:8.64&quot;/&gt;\n",
       "\t&lt;line x1=&quot;3058.23&quot; y1=&quot;1069.36&quot; x2=&quot;3119.61&quot; y2=&quot;1134.58&quot; stroke-linecap=&quot;round&quot; style=&quot;stroke:#1A476F;stroke-width:8.64&quot;/&gt;\n",
       "\t&lt;line x1=&quot;3119.61&quot; y1=&quot;1134.58&quot; x2=&quot;3181.12&quot; y2=&quot;1500.39&quot; stroke-linecap=&quot;round&quot; style=&quot;stroke:#1A476F;stroke-width:8.64&quot;/&gt;\n",
       "\t&lt;line x1=&quot;3181.12&quot; y1=&quot;1500.39&quot; x2=&quot;3242.50&quot; y2=&quot;1132.84&quot; stroke-linecap=&quot;round&quot; style=&quot;stroke:#1A476F;stroke-width:8.64&quot;/&gt;\n",
       "\t&lt;line x1=&quot;3242.50&quot; y1=&quot;1132.84&quot; x2=&quot;3304.00&quot; y2=&quot;969.61&quot; stroke-linecap=&quot;round&quot; style=&quot;stroke:#1A476F;stroke-width:8.64&quot;/&gt;\n",
       "\t&lt;line x1=&quot;3304.00&quot; y1=&quot;969.61&quot; x2=&quot;3365.51&quot; y2=&quot;1180.74&quot; stroke-linecap=&quot;round&quot; style=&quot;stroke:#1A476F;stroke-width:8.64&quot;/&gt;\n",
       "\t&lt;line x1=&quot;3365.51&quot; y1=&quot;1180.74&quot; x2=&quot;3426.89&quot; y2=&quot;1493.34&quot; stroke-linecap=&quot;round&quot; style=&quot;stroke:#1A476F;stroke-width:8.64&quot;/&gt;\n",
       "\t&lt;line x1=&quot;3426.89&quot; y1=&quot;1493.34&quot; x2=&quot;3488.39&quot; y2=&quot;992.75&quot; stroke-linecap=&quot;round&quot; style=&quot;stroke:#1A476F;stroke-width:8.64&quot;/&gt;\n",
       "\t&lt;line x1=&quot;3488.39&quot; y1=&quot;992.75&quot; x2=&quot;3549.89&quot; y2=&quot;1358.32&quot; stroke-linecap=&quot;round&quot; style=&quot;stroke:#1A476F;stroke-width:8.64&quot;/&gt;\n",
       "\t&lt;line x1=&quot;3549.89&quot; y1=&quot;1358.32&quot; x2=&quot;3611.27&quot; y2=&quot;1544.08&quot; stroke-linecap=&quot;round&quot; style=&quot;stroke:#1A476F;stroke-width:8.64&quot;/&gt;\n",
       "\t&lt;line x1=&quot;3611.27&quot; y1=&quot;1544.08&quot; x2=&quot;3672.78&quot; y2=&quot;1075.92&quot; stroke-linecap=&quot;round&quot; style=&quot;stroke:#1A476F;stroke-width:8.64&quot;/&gt;\n",
       "\t&lt;line x1=&quot;3672.78&quot; y1=&quot;1075.92&quot; x2=&quot;3734.16&quot; y2=&quot;1153.63&quot; stroke-linecap=&quot;round&quot; style=&quot;stroke:#1A476F;stroke-width:8.64&quot;/&gt;\n",
       "\t&lt;line x1=&quot;3734.16&quot; y1=&quot;1153.63&quot; x2=&quot;3795.66&quot; y2=&quot;1445.57&quot; stroke-linecap=&quot;round&quot; style=&quot;stroke:#1A476F;stroke-width:8.64&quot;/&gt;\n",
       "\t&lt;line x1=&quot;599.94&quot; y1=&quot;1194.35&quot; x2=&quot;661.32&quot; y2=&quot;1275.16&quot; stroke-linecap=&quot;round&quot; style=&quot;stroke:#90353B;stroke-width:8.64&quot;/&gt;\n",
       "\t&lt;line x1=&quot;661.32&quot; y1=&quot;1275.16&quot; x2=&quot;722.82&quot; y2=&quot;1186.55&quot; stroke-linecap=&quot;round&quot; style=&quot;stroke:#90353B;stroke-width:8.64&quot;/&gt;\n",
       "\t&lt;line x1=&quot;722.82&quot; y1=&quot;1186.55&quot; x2=&quot;784.33&quot; y2=&quot;1185.19&quot; stroke-linecap=&quot;round&quot; style=&quot;stroke:#90353B;stroke-width:8.64&quot;/&gt;\n",
       "\t&lt;line x1=&quot;784.33&quot; y1=&quot;1185.19&quot; x2=&quot;845.71&quot; y2=&quot;1865.59&quot; stroke-linecap=&quot;round&quot; style=&quot;stroke:#90353B;stroke-width:8.64&quot;/&gt;\n",
       "\t&lt;line x1=&quot;845.71&quot; y1=&quot;1865.59&quot; x2=&quot;907.21&quot; y2=&quot;1157.96&quot; stroke-linecap=&quot;round&quot; style=&quot;stroke:#90353B;stroke-width:8.64&quot;/&gt;\n",
       "\t&lt;line x1=&quot;907.21&quot; y1=&quot;1157.96&quot; x2=&quot;968.59&quot; y2=&quot;878.03&quot; stroke-linecap=&quot;round&quot; style=&quot;stroke:#90353B;stroke-width:8.64&quot;/&gt;\n",
       "\t&lt;line x1=&quot;968.59&quot; y1=&quot;878.03&quot; x2=&quot;1030.10&quot; y2=&quot;1400.03&quot; stroke-linecap=&quot;round&quot; style=&quot;stroke:#90353B;stroke-width:8.64&quot;/&gt;\n",
       "\t&lt;line x1=&quot;1030.10&quot; y1=&quot;1400.03&quot; x2=&quot;1091.60&quot; y2=&quot;1139.15&quot; stroke-linecap=&quot;round&quot; style=&quot;stroke:#90353B;stroke-width:8.64&quot;/&gt;\n",
       "\t&lt;line x1=&quot;1091.60&quot; y1=&quot;1139.15&quot; x2=&quot;1152.98&quot; y2=&quot;1313.52&quot; stroke-linecap=&quot;round&quot; style=&quot;stroke:#90353B;stroke-width:8.64&quot;/&gt;\n",
       "\t&lt;line x1=&quot;1152.98&quot; y1=&quot;1313.52&quot; x2=&quot;1214.48&quot; y2=&quot;1201.16&quot; stroke-linecap=&quot;round&quot; style=&quot;stroke:#90353B;stroke-width:8.64&quot;/&gt;\n",
       "\t&lt;line x1=&quot;1214.48&quot; y1=&quot;1201.16&quot; x2=&quot;1275.99&quot; y2=&quot;1282.59&quot; stroke-linecap=&quot;round&quot; style=&quot;stroke:#90353B;stroke-width:8.64&quot;/&gt;\n",
       "\t&lt;line x1=&quot;1275.99&quot; y1=&quot;1282.59&quot; x2=&quot;1337.37&quot; y2=&quot;1309.93&quot; stroke-linecap=&quot;round&quot; style=&quot;stroke:#90353B;stroke-width:8.64&quot;/&gt;\n",
       "\t&lt;line x1=&quot;1337.37&quot; y1=&quot;1309.93&quot; x2=&quot;1398.87&quot; y2=&quot;1181.11&quot; stroke-linecap=&quot;round&quot; style=&quot;stroke:#90353B;stroke-width:8.64&quot;/&gt;\n",
       "\t&lt;line x1=&quot;1398.87&quot; y1=&quot;1181.11&quot; x2=&quot;1460.25&quot; y2=&quot;1432.20&quot; stroke-linecap=&quot;round&quot; style=&quot;stroke:#90353B;stroke-width:8.64&quot;/&gt;\n",
       "\t&lt;line x1=&quot;1460.25&quot; y1=&quot;1432.20&quot; x2=&quot;1521.75&quot; y2=&quot;1204.37&quot; stroke-linecap=&quot;round&quot; style=&quot;stroke:#90353B;stroke-width:8.64&quot;/&gt;\n",
       "\t&lt;line x1=&quot;1521.75&quot; y1=&quot;1204.37&quot; x2=&quot;1583.26&quot; y2=&quot;1005.25&quot; stroke-linecap=&quot;round&quot; style=&quot;stroke:#90353B;stroke-width:8.64&quot;/&gt;\n",
       "\t&lt;line x1=&quot;1583.26&quot; y1=&quot;1005.25&quot; x2=&quot;1644.64&quot; y2=&quot;1186.55&quot; stroke-linecap=&quot;round&quot; style=&quot;stroke:#90353B;stroke-width:8.64&quot;/&gt;\n",
       "\t&lt;line x1=&quot;1644.64&quot; y1=&quot;1186.55&quot; x2=&quot;1706.14&quot; y2=&quot;1340.75&quot; stroke-linecap=&quot;round&quot; style=&quot;stroke:#90353B;stroke-width:8.64&quot;/&gt;\n",
       "\t&lt;line x1=&quot;1706.14&quot; y1=&quot;1340.75&quot; x2=&quot;1767.65&quot; y2=&quot;964.41&quot; stroke-linecap=&quot;round&quot; style=&quot;stroke:#90353B;stroke-width:8.64&quot;/&gt;\n",
       "\t&lt;line x1=&quot;1767.65&quot; y1=&quot;964.41&quot; x2=&quot;1829.03&quot; y2=&quot;1291.00&quot; stroke-linecap=&quot;round&quot; style=&quot;stroke:#90353B;stroke-width:8.64&quot;/&gt;\n",
       "\t&lt;line x1=&quot;1829.03&quot; y1=&quot;1291.00&quot; x2=&quot;1890.53&quot; y2=&quot;1562.15&quot; stroke-linecap=&quot;round&quot; style=&quot;stroke:#90353B;stroke-width:8.64&quot;/&gt;\n",
       "\t&lt;line x1=&quot;1890.53&quot; y1=&quot;1562.15&quot; x2=&quot;1951.91&quot; y2=&quot;487.84&quot; stroke-linecap=&quot;round&quot; style=&quot;stroke:#90353B;stroke-width:8.64&quot;/&gt;\n",
       "\t&lt;line x1=&quot;1951.91&quot; y1=&quot;487.84&quot; x2=&quot;2013.41&quot; y2=&quot;1339.26&quot; stroke-linecap=&quot;round&quot; style=&quot;stroke:#90353B;stroke-width:8.64&quot;/&gt;\n",
       "\t&lt;line x1=&quot;2013.41&quot; y1=&quot;1339.26&quot; x2=&quot;2074.92&quot; y2=&quot;1577.86&quot; stroke-linecap=&quot;round&quot; style=&quot;stroke:#90353B;stroke-width:8.64&quot;/&gt;\n",
       "\t&lt;line x1=&quot;2074.92&quot; y1=&quot;1577.86&quot; x2=&quot;2136.30&quot; y2=&quot;1118.98&quot; stroke-linecap=&quot;round&quot; style=&quot;stroke:#90353B;stroke-width:8.64&quot;/&gt;\n",
       "\t&lt;line x1=&quot;2136.30&quot; y1=&quot;1118.98&quot; x2=&quot;2197.80&quot; y2=&quot;1101.66&quot; stroke-linecap=&quot;round&quot; style=&quot;stroke:#90353B;stroke-width:8.64&quot;/&gt;\n",
       "\t&lt;line x1=&quot;2197.80&quot; y1=&quot;1101.66&quot; x2=&quot;2259.18&quot; y2=&quot;1318.72&quot; stroke-linecap=&quot;round&quot; style=&quot;stroke:#90353B;stroke-width:8.64&quot;/&gt;\n",
       "\t&lt;line x1=&quot;2259.18&quot; y1=&quot;1318.72&quot; x2=&quot;2320.68&quot; y2=&quot;1293.10&quot; stroke-linecap=&quot;round&quot; style=&quot;stroke:#90353B;stroke-width:8.64&quot;/&gt;\n",
       "\t&lt;line x1=&quot;2320.68&quot; y1=&quot;1293.10&quot; x2=&quot;2382.19&quot; y2=&quot;1047.95&quot; stroke-linecap=&quot;round&quot; style=&quot;stroke:#90353B;stroke-width:8.64&quot;/&gt;\n",
       "\t&lt;line x1=&quot;2382.19&quot; y1=&quot;1047.95&quot; x2=&quot;2443.57&quot; y2=&quot;1202.39&quot; stroke-linecap=&quot;round&quot; style=&quot;stroke:#90353B;stroke-width:8.64&quot;/&gt;\n",
       "\t&lt;line x1=&quot;2443.57&quot; y1=&quot;1202.39&quot; x2=&quot;2505.07&quot; y2=&quot;1337.66&quot; stroke-linecap=&quot;round&quot; style=&quot;stroke:#90353B;stroke-width:8.64&quot;/&gt;\n",
       "\t&lt;line x1=&quot;2505.07&quot; y1=&quot;1337.66&quot; x2=&quot;2566.57&quot; y2=&quot;1277.63&quot; stroke-linecap=&quot;round&quot; style=&quot;stroke:#90353B;stroke-width:8.64&quot;/&gt;\n",
       "\t&lt;line x1=&quot;2566.57&quot; y1=&quot;1277.63&quot; x2=&quot;2627.95&quot; y2=&quot;1222.07&quot; stroke-linecap=&quot;round&quot; style=&quot;stroke:#90353B;stroke-width:8.64&quot;/&gt;\n",
       "\t&lt;line x1=&quot;2627.95&quot; y1=&quot;1222.07&quot; x2=&quot;2689.46&quot; y2=&quot;1340.13&quot; stroke-linecap=&quot;round&quot; style=&quot;stroke:#90353B;stroke-width:8.64&quot;/&gt;\n",
       "\t&lt;line x1=&quot;2689.46&quot; y1=&quot;1340.13&quot; x2=&quot;2750.84&quot; y2=&quot;1327.88&quot; stroke-linecap=&quot;round&quot; style=&quot;stroke:#90353B;stroke-width:8.64&quot;/&gt;\n",
       "\t&lt;line x1=&quot;2750.84&quot; y1=&quot;1327.88&quot; x2=&quot;2812.34&quot; y2=&quot;1359.81&quot; stroke-linecap=&quot;round&quot; style=&quot;stroke:#90353B;stroke-width:8.64&quot;/&gt;\n",
       "\t&lt;line x1=&quot;2812.34&quot; y1=&quot;1359.81&quot; x2=&quot;2873.85&quot; y2=&quot;966.77&quot; stroke-linecap=&quot;round&quot; style=&quot;stroke:#90353B;stroke-width:8.64&quot;/&gt;\n",
       "\t&lt;line x1=&quot;2873.85&quot; y1=&quot;966.77&quot; x2=&quot;2935.23&quot; y2=&quot;1194.72&quot; stroke-linecap=&quot;round&quot; style=&quot;stroke:#90353B;stroke-width:8.64&quot;/&gt;\n",
       "\t&lt;line x1=&quot;2935.23&quot; y1=&quot;1194.72&quot; x2=&quot;2996.73&quot; y2=&quot;1347.31&quot; stroke-linecap=&quot;round&quot; style=&quot;stroke:#90353B;stroke-width:8.64&quot;/&gt;\n",
       "\t&lt;line x1=&quot;2996.73&quot; y1=&quot;1347.31&quot; x2=&quot;3058.23&quot; y2=&quot;1079.13&quot; stroke-linecap=&quot;round&quot; style=&quot;stroke:#90353B;stroke-width:8.64&quot;/&gt;\n",
       "\t&lt;line x1=&quot;3058.23&quot; y1=&quot;1079.13&quot; x2=&quot;3119.61&quot; y2=&quot;1235.43&quot; stroke-linecap=&quot;round&quot; style=&quot;stroke:#90353B;stroke-width:8.64&quot;/&gt;\n",
       "\t&lt;line x1=&quot;3119.61&quot; y1=&quot;1235.43&quot; x2=&quot;3181.12&quot; y2=&quot;1272.68&quot; stroke-linecap=&quot;round&quot; style=&quot;stroke:#90353B;stroke-width:8.64&quot;/&gt;\n",
       "\t&lt;line x1=&quot;3181.12&quot; y1=&quot;1272.68&quot; x2=&quot;3242.50&quot; y2=&quot;1107.23&quot; stroke-linecap=&quot;round&quot; style=&quot;stroke:#90353B;stroke-width:8.64&quot;/&gt;\n",
       "\t&lt;line x1=&quot;3242.50&quot; y1=&quot;1107.23&quot; x2=&quot;3304.00&quot; y2=&quot;1157.10&quot; stroke-linecap=&quot;round&quot; style=&quot;stroke:#90353B;stroke-width:8.64&quot;/&gt;\n",
       "\t&lt;line x1=&quot;3304.00&quot; y1=&quot;1157.10&quot; x2=&quot;3365.51&quot; y2=&quot;1293.97&quot; stroke-linecap=&quot;round&quot; style=&quot;stroke:#90353B;stroke-width:8.64&quot;/&gt;\n",
       "\t&lt;line x1=&quot;3365.51&quot; y1=&quot;1293.97&quot; x2=&quot;3426.89&quot; y2=&quot;1120.47&quot; stroke-linecap=&quot;round&quot; style=&quot;stroke:#90353B;stroke-width:8.64&quot;/&gt;\n",
       "\t&lt;line x1=&quot;3426.89&quot; y1=&quot;1120.47&quot; x2=&quot;3488.39&quot; y2=&quot;1025.67&quot; stroke-linecap=&quot;round&quot; style=&quot;stroke:#90353B;stroke-width:8.64&quot;/&gt;\n",
       "\t&lt;line x1=&quot;3488.39&quot; y1=&quot;1025.67&quot; x2=&quot;3549.89&quot; y2=&quot;1406.59&quot; stroke-linecap=&quot;round&quot; style=&quot;stroke:#90353B;stroke-width:8.64&quot;/&gt;\n",
       "\t&lt;line x1=&quot;3549.89&quot; y1=&quot;1406.59&quot; x2=&quot;3611.27&quot; y2=&quot;1323.42&quot; stroke-linecap=&quot;round&quot; style=&quot;stroke:#90353B;stroke-width:8.64&quot;/&gt;\n",
       "\t&lt;line x1=&quot;3611.27&quot; y1=&quot;1323.42&quot; x2=&quot;3672.78&quot; y2=&quot;1134.45&quot; stroke-linecap=&quot;round&quot; style=&quot;stroke:#90353B;stroke-width:8.64&quot;/&gt;\n",
       "\t&lt;line x1=&quot;3672.78&quot; y1=&quot;1134.45&quot; x2=&quot;3734.16&quot; y2=&quot;1309.69&quot; stroke-linecap=&quot;round&quot; style=&quot;stroke:#90353B;stroke-width:8.64&quot;/&gt;\n",
       "\t&lt;line x1=&quot;3734.16&quot; y1=&quot;1309.69&quot; x2=&quot;3795.66&quot; y2=&quot;1476.01&quot; stroke-linecap=&quot;round&quot; style=&quot;stroke:#90353B;stroke-width:8.64&quot;/&gt;\n",
       "\t&lt;line x1=&quot;290.81&quot; y1=&quot;2233.63&quot; x2=&quot;290.81&quot; y2=&quot;100.86&quot; style=&quot;stroke:#000000;stroke-width:5.76&quot;/&gt;\n",
       "\t&lt;line x1=&quot;290.81&quot; y1=&quot;2155.54&quot; x2=&quot;250.84&quot; y2=&quot;2155.54&quot; style=&quot;stroke:#000000;stroke-width:5.76&quot;/&gt;\n",
       "\t&lt;text x=&quot;200.73&quot; y=&quot;2155.54&quot; style=&quot;font-family:&#x27;Helvetica&#x27;;font-size:99.99px;fill:#000000&quot; transform=&quot;rotate(-90 200.73,2155.54)&quot; text-anchor=&quot;middle&quot;&gt;-4&lt;/text&gt;\n",
       "\t&lt;line x1=&quot;290.81&quot; y1=&quot;1682.93&quot; x2=&quot;250.84&quot; y2=&quot;1682.93&quot; style=&quot;stroke:#000000;stroke-width:5.76&quot;/&gt;\n",
       "\t&lt;text x=&quot;200.73&quot; y=&quot;1682.93&quot; style=&quot;font-family:&#x27;Helvetica&#x27;;font-size:99.99px;fill:#000000&quot; transform=&quot;rotate(-90 200.73,1682.93)&quot; text-anchor=&quot;middle&quot;&gt;-2&lt;/text&gt;\n",
       "\t&lt;line x1=&quot;290.81&quot; y1=&quot;1210.31&quot; x2=&quot;250.84&quot; y2=&quot;1210.31&quot; style=&quot;stroke:#000000;stroke-width:5.76&quot;/&gt;\n",
       "\t&lt;text x=&quot;200.73&quot; y=&quot;1210.31&quot; style=&quot;font-family:&#x27;Helvetica&#x27;;font-size:99.99px;fill:#000000&quot; transform=&quot;rotate(-90 200.73,1210.31)&quot; text-anchor=&quot;middle&quot;&gt;0&lt;/text&gt;\n",
       "\t&lt;line x1=&quot;290.81&quot; y1=&quot;737.70&quot; x2=&quot;250.84&quot; y2=&quot;737.70&quot; style=&quot;stroke:#000000;stroke-width:5.76&quot;/&gt;\n",
       "\t&lt;text x=&quot;200.73&quot; y=&quot;737.70&quot; style=&quot;font-family:&#x27;Helvetica&#x27;;font-size:99.99px;fill:#000000&quot; transform=&quot;rotate(-90 200.73,737.70)&quot; text-anchor=&quot;middle&quot;&gt;2&lt;/text&gt;\n",
       "\t&lt;line x1=&quot;290.81&quot; y1=&quot;264.96&quot; x2=&quot;250.84&quot; y2=&quot;264.96&quot; style=&quot;stroke:#000000;stroke-width:5.76&quot;/&gt;\n",
       "\t&lt;text x=&quot;200.73&quot; y=&quot;264.96&quot; style=&quot;font-family:&#x27;Helvetica&#x27;;font-size:99.99px;fill:#000000&quot; transform=&quot;rotate(-90 200.73,264.96)&quot; text-anchor=&quot;middle&quot;&gt;4&lt;/text&gt;\n",
       "\t&lt;line x1=&quot;290.81&quot; y1=&quot;2233.63&quot; x2=&quot;3859.02&quot; y2=&quot;2233.63&quot; style=&quot;stroke:#000000;stroke-width:5.76&quot;/&gt;\n",
       "\t&lt;line x1=&quot;354.17&quot; y1=&quot;2233.63&quot; x2=&quot;354.17&quot; y2=&quot;2273.73&quot; style=&quot;stroke:#000000;stroke-width:5.76&quot;/&gt;\n",
       "\t&lt;text x=&quot;354.17&quot; y=&quot;2363.59&quot; style=&quot;font-family:&#x27;Helvetica&#x27;;font-size:99.99px;fill:#000000&quot; text-anchor=&quot;middle&quot;&gt;1984q1&lt;/text&gt;\n",
       "\t&lt;line x1=&quot;1214.48&quot; y1=&quot;2233.63&quot; x2=&quot;1214.48&quot; y2=&quot;2273.73&quot; style=&quot;stroke:#000000;stroke-width:5.76&quot;/&gt;\n",
       "\t&lt;text x=&quot;1214.48&quot; y=&quot;2363.59&quot; style=&quot;font-family:&#x27;Helvetica&#x27;;font-size:99.99px;fill:#000000&quot; text-anchor=&quot;middle&quot;&gt;1987q3&lt;/text&gt;\n",
       "\t&lt;line x1=&quot;2074.92&quot; y1=&quot;2233.63&quot; x2=&quot;2074.92&quot; y2=&quot;2273.73&quot; style=&quot;stroke:#000000;stroke-width:5.76&quot;/&gt;\n",
       "\t&lt;text x=&quot;2074.92&quot; y=&quot;2363.59&quot; style=&quot;font-family:&#x27;Helvetica&#x27;;font-size:99.99px;fill:#000000&quot; text-anchor=&quot;middle&quot;&gt;1991q1&lt;/text&gt;\n",
       "\t&lt;line x1=&quot;2935.35&quot; y1=&quot;2233.63&quot; x2=&quot;2935.35&quot; y2=&quot;2273.73&quot; style=&quot;stroke:#000000;stroke-width:5.76&quot;/&gt;\n",
       "\t&lt;text x=&quot;2935.35&quot; y=&quot;2363.59&quot; style=&quot;font-family:&#x27;Helvetica&#x27;;font-size:99.99px;fill:#000000&quot; text-anchor=&quot;middle&quot;&gt;1994q3&lt;/text&gt;\n",
       "\t&lt;line x1=&quot;3795.66&quot; y1=&quot;2233.63&quot; x2=&quot;3795.66&quot; y2=&quot;2273.73&quot; style=&quot;stroke:#000000;stroke-width:5.76&quot;/&gt;\n",
       "\t&lt;text x=&quot;3795.66&quot; y=&quot;2363.59&quot; style=&quot;font-family:&#x27;Helvetica&#x27;;font-size:99.99px;fill:#000000&quot; text-anchor=&quot;middle&quot;&gt;1998q1&lt;/text&gt;\n",
       "\t&lt;text x=&quot;2074.92&quot; y=&quot;2473.60&quot; style=&quot;font-family:&#x27;Helvetica&#x27;;font-size:99.99px;fill:#000000&quot; text-anchor=&quot;middle&quot;&gt;time&lt;/text&gt;\n",
       "\t&lt;rect x=&quot;1277.97&quot; y=&quot;2558.24&quot; width=&quot;1593.90&quot; height=&quot;186.37&quot; style=&quot;fill:#FFFFFF&quot;/&gt;\n",
       "\t&lt;rect x=&quot;1280.85&quot; y=&quot;2561.12&quot; width=&quot;1588.14&quot; height=&quot;180.61&quot; style=&quot;fill:none;stroke:#000000;stroke-width:5.76&quot;/&gt;\n",
       "\t&lt;line x1=&quot;1321.16&quot; y1=&quot;2651.43&quot; x2=&quot;1695.62&quot; y2=&quot;2651.43&quot; style=&quot;stroke:#1A476F;stroke-width:8.64&quot;/&gt;\n",
       "\t&lt;line x1=&quot;2020.96&quot; y1=&quot;2651.43&quot; x2=&quot;2395.30&quot; y2=&quot;2651.43&quot; style=&quot;stroke:#90353B;stroke-width:8.64&quot;/&gt;\n",
       "\t&lt;text x=&quot;1755.52&quot; y=&quot;2686.46&quot; style=&quot;font-family:&#x27;Helvetica&#x27;;font-size:99.99px;fill:#000000&quot;&gt;infl&lt;/text&gt;\n",
       "\t&lt;text x=&quot;2455.32&quot; y=&quot;2686.46&quot; style=&quot;font-family:&#x27;Helvetica&#x27;;font-size:99.99px;fill:#000000&quot;&gt;forecast&lt;/text&gt;\n",
       "&lt;/svg&gt;\n",
       "</body></html>\"></iframe>\n"
      ],
      "text/plain": [
       "This front-end cannot display the desired image type."
      ]
     },
     "metadata": {
      "image/svg+xml": {
       "height": 436,
       "width": 600
      },
      "text/html": {
       "height": 436,
       "width": 600
      }
     },
     "output_type": "display_data"
    }
   ],
   "source": [
    "tsline infl forecast if (time >= `start') & (time <= `end')"
   ]
  },
  {
   "cell_type": "markdown",
   "metadata": {},
   "source": [
    "As you can see, using Stata inside Jupyter Notebooks brings useful ways to present your data and results. Since I have omitted a lot of details about the estimation procedure, you can read more about forecasting and Stata here:\n",
    "- [How to install Stata kernel](https://kylebarron.dev/stata_kernel/getting_started/)\n",
    "- [Time Series forecasting with Python](https://machinelearningmastery.com/arima-for-time-series-forecasting-with-python/)\n",
    "- [Stata module to estimate ARDL models](https://www.stata.com/meeting/chicago16/slides/chicago16_kripfganz.pdf)"
   ]
  },
  {
   "cell_type": "code",
   "execution_count": null,
   "metadata": {},
   "outputs": [],
   "source": []
  }
 ],
 "metadata": {
  "kernelspec": {
   "display_name": "Stata",
   "language": "stata",
   "name": "stata"
  },
  "language_info": {
   "codemirror_mode": "stata",
   "file_extension": ".do",
   "mimetype": "text/x-stata",
   "name": "stata",
   "version": "15.1"
  },
  "toc": {
   "base_numbering": 1,
   "nav_menu": {},
   "number_sections": true,
   "sideBar": true,
   "skip_h1_title": false,
   "title_cell": "Table of Contents",
   "title_sidebar": "Contents",
   "toc_cell": false,
   "toc_position": {
    "height": "calc(100% - 180px)",
    "left": "10px",
    "top": "150px",
    "width": "207px"
   },
   "toc_section_display": true,
   "toc_window_display": true
  },
  "toc-autonumbering": false,
  "toc-showcode": false,
  "toc-showmarkdowntxt": false,
  "toc-showtags": false
 },
 "nbformat": 4,
 "nbformat_minor": 4
}
